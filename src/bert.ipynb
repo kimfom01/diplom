{
  "cells": [
    {
      "cell_type": "code",
      "execution_count": 75,
      "metadata": {
        "id": "NJq_jEvmHVUs"
      },
      "outputs": [],
      "source": [
        "import math\n",
        "import re\n",
        "from random import *\n",
        "import numpy as np\n",
        "import torch\n",
        "import torch.nn as nn\n",
        "import torch.optim as optim\n",
        "import pandas as pd\n",
        "from sklearn.model_selection import train_test_split\n",
        "import ast\n",
        "import itertools\n",
        "import os\n",
        "\n",
        "# os.environ['CUDA_LAUNCH_BLOCKING'] = \"1\"\n",
        "\n",
        "device = torch.device(\"cuda\")"
      ]
    },
    {
      "cell_type": "code",
      "execution_count": 76,
      "metadata": {
        "id": "crgibHsiHVUv"
      },
      "outputs": [],
      "source": [
        "# df = pd.read_csv(\"./out/demo_labelled_dataset.csv\")\n",
        "\n",
        "# df"
      ]
    },
    {
      "cell_type": "code",
      "execution_count": 77,
      "metadata": {
        "id": "8S3veKWwHVUw"
      },
      "outputs": [],
      "source": [
        "# X = df[\"numeric_output\"][:926]\n",
        "# y = df.results[:926]\n",
        "\n",
        "# X, y"
      ]
    },
    {
      "cell_type": "code",
      "execution_count": 78,
      "metadata": {
        "id": "xxBeuxHmHVUx"
      },
      "outputs": [],
      "source": [
        "# X = X.apply(ast.literal_eval)\n",
        "\n",
        "# print(type(X))"
      ]
    },
    {
      "cell_type": "code",
      "execution_count": 79,
      "metadata": {
        "id": "A8w7rwRVHVUx"
      },
      "outputs": [],
      "source": [
        "# train_X, val_X, train_y, val_y = train_test_split(X, y)\n",
        "\n",
        "# train_X, val_X"
      ]
    },
    {
      "cell_type": "code",
      "execution_count": 80,
      "metadata": {
        "colab": {
          "base_uri": "https://localhost:8080/"
        },
        "id": "UA_XkGUFHVUx",
        "outputId": "284bada9-00c9-4189-a2a1-44b842d0d721"
      },
      "outputs": [
        {
          "name": "stdout",
          "output_type": "stream",
          "text": [
            "0                        [[1.0], [-12.0, 0.999772471]]\n",
            "1                       [[-11.9978384], [0.999544983]]\n",
            "2            [[0.99909009], [-11.9913555, 0.99863536]]\n",
            "3                       [[-11.9870352], [0.998180794]]\n",
            "4          [[0.993644133], [-11.9396045, 0.989123796]]\n",
            "5    [[-11.9913555, 0.99863536], [-12.0, 0.999772471]]\n",
            "6                       [[-11.9396045], [0.999544983]]\n",
            "7                        [[0.99909009], [-11.9870352]]\n",
            "8                       [[-11.9870352], [0.998180794]]\n",
            "9          [[0.993644133], [-11.9396045, 0.989123796]]\n",
            "dtype: object\n"
          ]
        }
      ],
      "source": [
        "# numeric_series = X\n",
        "\n",
        "numeric_series = pd.Series([\n",
        "    ([1.0], [-12.0, 0.999772471]),\n",
        "    ([-11.9978384],[ 0.999544983]),\n",
        "    ([0.99909009], [-11.9913555, 0.99863536]),\n",
        "    ([-11.9870352],[ 0.998180794]),\n",
        "    ([0.993644133], [-11.9396045, 0.989123796]),\n",
        "    ([-11.9913555, 0.99863536], [-12.0, 0.999772471]),\n",
        "    ([-11.9396045],[ 0.999544983]),\n",
        "    ([0.99909009], [-11.9870352]),\n",
        "    ([-11.9870352],[ 0.998180794]),\n",
        "    ([0.993644133], [-11.9396045, 0.989123796])\n",
        "])\n",
        "\n",
        "word_dict = {'[PAD]': 0, '[CLS]': 1, '[SEP]': 2, '[MASK]': 3}\n",
        "vocab_size = len(word_dict)\n",
        "id = len(word_dict)\n",
        "\n",
        "for lst1, lst2 in numeric_series:\n",
        "    for i, num in enumerate(lst1):\n",
        "        token = str(num)\n",
        "        if token not in word_dict:\n",
        "            word_dict[token] = id\n",
        "            id += 1\n",
        "    for i, num in enumerate(lst2):\n",
        "        token = str(num)\n",
        "        if token not in word_dict:\n",
        "            word_dict[token] = id\n",
        "            id += 1\n",
        "\n",
        "number_dict = {i: w for w, i in word_dict.items()}\n",
        "\n",
        "tokenized_series = numeric_series.apply(lambda lst: [word_dict.get(str(num), num) for num in lst])\n",
        "\n",
        "print(tokenized_series)\n",
        "\n",
        "token_list = list()\n",
        "for xsol, ysol in tokenized_series:\n",
        "    x_tokens = []\n",
        "    y_tokens = []\n",
        "    for num in xsol:\n",
        "        x_tokens.append(word_dict[str(num)])\n",
        "    for num in ysol:\n",
        "        y_tokens.append(word_dict[str(num)])\n",
        "    tokens = [x_tokens, y_tokens]\n",
        "    token_list.append(tokens)"
      ]
    },
    {
      "cell_type": "code",
      "execution_count": 81,
      "metadata": {
        "colab": {
          "base_uri": "https://localhost:8080/"
        },
        "id": "AXkSj4wGHVUy",
        "outputId": "9ef1a29d-e84f-49e1-b875-cbe7ebd83ca8"
      },
      "outputs": [
        {
          "data": {
            "text/plain": [
              "{'[PAD]': 0,\n",
              " '[CLS]': 1,\n",
              " '[SEP]': 2,\n",
              " '[MASK]': 3,\n",
              " '1.0': 4,\n",
              " '-12.0': 5,\n",
              " '0.999772471': 6,\n",
              " '-11.9978384': 7,\n",
              " '0.999544983': 8,\n",
              " '0.99909009': 9,\n",
              " '-11.9913555': 10,\n",
              " '0.99863536': 11,\n",
              " '-11.9870352': 12,\n",
              " '0.998180794': 13,\n",
              " '0.993644133': 14,\n",
              " '-11.9396045': 15,\n",
              " '0.989123796': 16}"
            ]
          },
          "execution_count": 81,
          "metadata": {},
          "output_type": "execute_result"
        }
      ],
      "source": [
        "# merge tokens to a single list\n",
        "# token_list = list(word_dict.values())\n",
        "word_dict"
      ]
    },
    {
      "cell_type": "code",
      "execution_count": 82,
      "metadata": {
        "colab": {
          "base_uri": "https://localhost:8080/"
        },
        "id": "f7Sf-VRQHVUz",
        "outputId": "f40fe1bf-8f1c-43bf-f908-f9399dd1f626"
      },
      "outputs": [
        {
          "data": {
            "text/plain": [
              "[[[4], [5, 6]],\n",
              " [[7], [8]],\n",
              " [[9], [10, 11]],\n",
              " [[12], [13]],\n",
              " [[14], [15, 16]],\n",
              " [[10, 11], [5, 6]],\n",
              " [[15], [8]],\n",
              " [[9], [12]],\n",
              " [[12], [13]],\n",
              " [[14], [15, 16]]]"
            ]
          },
          "execution_count": 82,
          "metadata": {},
          "output_type": "execute_result"
        }
      ],
      "source": [
        "token_list"
      ]
    },
    {
      "cell_type": "code",
      "execution_count": 83,
      "metadata": {
        "id": "o6WNS4AIHVUz"
      },
      "outputs": [],
      "source": [
        "# text = (\n",
        "#         'Hello, how are you? I am Romeo.\\n'\n",
        "#         'Hello, Romeo My name is Juliet. Nice to meet you.\\n'\n",
        "#         'Nice meet you too. How are you today?\\n'\n",
        "#         'Great. My baseball team won the competition.\\n'\n",
        "#         'Oh Congratulations, Juliet\\n'\n",
        "#         'Thank you Romeo'\n",
        "#     )"
      ]
    },
    {
      "cell_type": "code",
      "execution_count": 84,
      "metadata": {
        "id": "jtlZlMqhHVUz"
      },
      "outputs": [],
      "source": [
        "# sentences = re.sub(\"[.,!?\\\\-]\", '', text.lower()).split('\\n')\n",
        "# word_list = list(set(\" \".join(sentences).split()))\n",
        "# word_dict = {'[PAD]': 0, '[CLS]': 1, '[SEP]': 2, '[MASK]': 3}\n",
        "\n",
        "\n",
        "# for i, w in enumerate(word_list):\n",
        "#     word_dict[w] = i + 4\n",
        "# number_dict = {i: w for i, w in enumerate(word_dict)}\n",
        "# vocab_size = len(word_dict)\n",
        "\n",
        "# token_list = list()\n",
        "# for sentence in sentences:\n",
        "#     arr = [word_dict[s] for s in sentence.split()]\n",
        "#     token_list.append(arr)"
      ]
    },
    {
      "cell_type": "code",
      "execution_count": 85,
      "metadata": {
        "id": "1Rn7U3V3HVU0"
      },
      "outputs": [],
      "source": [
        "# token_list"
      ]
    },
    {
      "cell_type": "code",
      "execution_count": 86,
      "metadata": {
        "id": "Sf5LkQy7HVU0"
      },
      "outputs": [],
      "source": [
        "# maxlen = 30\n",
        "# batch_size = 6\n",
        "# max_pred = 5\n",
        "# n_layers = 6\n",
        "# n_heads = 12\n",
        "# d_model = 768\n",
        "# d_ff = 768 * 4\n",
        "# d_k = d_v = 64\n",
        "# n_segments = 2"
      ]
    },
    {
      "cell_type": "code",
      "execution_count": 87,
      "metadata": {
        "id": "Bm_3iEF8HVU0"
      },
      "outputs": [],
      "source": [
        "batch_size = 6\n",
        "max_pred = 5\n",
        "n_layers = 6\n",
        "n_heads = 12\n",
        "d_model = 32\n",
        "d_ff = 32 * 4\n",
        "d_k = d_v = 2\n",
        "n_segments = 6\n",
        "vocab_size = 10000\n",
        "maxlen = 100"
      ]
    },
    {
      "cell_type": "code",
      "execution_count": 88,
      "metadata": {
        "id": "x1wdn_rxHVU0"
      },
      "outputs": [],
      "source": [
        "def make_batch():\n",
        "    batch = []\n",
        "    positive = negative = 0\n",
        "    while positive != batch_size/2 or negative != batch_size/2:\n",
        "        tokens_a_index, tokens_b_index= randrange(len(tokenized_series)), randrange(len(tokenized_series))\n",
        "        tokens_a, tokens_b= token_list[tokens_a_index], token_list[tokens_b_index]\n",
        "\n",
        "        input_ids = [word_dict['[CLS]']] + tokens_a + [word_dict['[SEP]']] + tokens_b + [word_dict['[SEP]']]\n",
        "\n",
        "        segment_ids = [0] * (1 + len(tokens_a) + 1) + [1] * (len(tokens_b) + 1)\n",
        "\n",
        "        n_pred =  min(max_pred, max(1, int(round(len(input_ids) * 0.15))))\n",
        "\n",
        "        cand_maked_pos = [i for i, token in enumerate(input_ids)\n",
        "                          if token != word_dict['[CLS]'] and token != word_dict['[SEP]']]\n",
        "        shuffle(cand_maked_pos)\n",
        "        masked_tokens, masked_pos = [], []\n",
        "        for pos in cand_maked_pos[:n_pred]:\n",
        "            masked_pos.append(pos)\n",
        "            masked_tokens.append(input_ids[pos])\n",
        "            if random() < 0.8:\n",
        "                input_ids[pos] = word_dict['[MASK]']\n",
        "            elif random() < 0.5:\n",
        "                index = randint(0, vocab_size - 1)\n",
        "                input_ids[pos] = index\n",
        "\n",
        "        n_pad = maxlen - len(input_ids)\n",
        "        input_ids.extend([0] * n_pad)\n",
        "        segment_ids.extend([0] * n_pad)\n",
        "\n",
        "        if max_pred > n_pred:\n",
        "            n_pad = max_pred - n_pred\n",
        "            masked_tokens.extend([0] * n_pad)\n",
        "            masked_pos.extend([0] * n_pad)\n",
        "\n",
        "        if tokens_a_index + 1 == tokens_b_index and positive < batch_size/2:\n",
        "            batch.append([input_ids, segment_ids, masked_tokens, masked_pos, True])\n",
        "            positive += 1\n",
        "        elif tokens_a_index + 1 != tokens_b_index and negative < batch_size/2:\n",
        "            batch.append([input_ids, segment_ids, masked_tokens, masked_pos, False])\n",
        "            negative += 1\n",
        "    return batch"
      ]
    },
    {
      "cell_type": "code",
      "execution_count": 89,
      "metadata": {
        "id": "WKpbYzIzHVU0"
      },
      "outputs": [],
      "source": [
        "# def make_batch():\n",
        "#     batch = []\n",
        "#     positive = negative = 0\n",
        "#     while positive != batch_size/2 or negative != batch_size/2:\n",
        "#         tokens_a_index, tokens_b_index= randrange(len(sentences)), randrange(len(sentences))\n",
        "#         tokens_a, tokens_b= token_list[tokens_a_index], token_list[tokens_b_index]\n",
        "\n",
        "#         input_ids = [word_dict['[CLS]']] + tokens_a + [word_dict['[SEP]']] + tokens_b + [word_dict['[SEP]']]\n",
        "\n",
        "#         segment_ids = [0] * (1 + len(tokens_a) + 1) + [1] * (len(tokens_b) + 1)\n",
        "\n",
        "#         n_pred =  min(max_pred, max(1, int(round(len(input_ids) * 0.15))))\n",
        "\n",
        "#         cand_maked_pos = [i for i, token in enumerate(input_ids)\n",
        "#                           if token != word_dict['[CLS]'] and token != word_dict['[SEP]']]\n",
        "#         shuffle(cand_maked_pos)\n",
        "#         masked_tokens, masked_pos = [], []\n",
        "#         for pos in cand_maked_pos[:n_pred]:\n",
        "#             masked_pos.append(pos)\n",
        "#             masked_tokens.append(input_ids[pos])\n",
        "#             if random() < 0.8:\n",
        "#                 input_ids[pos] = word_dict['[MASK]']\n",
        "#             elif random() < 0.5:\n",
        "#                 index = randint(0, vocab_size - 1)\n",
        "#                 input_ids[pos] = word_dict[number_dict[index]]\n",
        "\n",
        "#         n_pad = maxlen - len(input_ids)\n",
        "#         input_ids.extend([0] * n_pad)\n",
        "#         segment_ids.extend([0] * n_pad)\n",
        "\n",
        "#         if max_pred > n_pred:\n",
        "#             n_pad = max_pred - n_pred\n",
        "#             masked_tokens.extend([0] * n_pad)\n",
        "#             masked_pos.extend([0] * n_pad)\n",
        "\n",
        "#         if tokens_a_index + 1 == tokens_b_index and positive < batch_size/2:\n",
        "#             batch.append([input_ids, segment_ids, masked_tokens, masked_pos, True])\n",
        "#             positive += 1\n",
        "#         elif tokens_a_index + 1 != tokens_b_index and negative < batch_size/2:\n",
        "#             batch.append([input_ids, segment_ids, masked_tokens, masked_pos, False])\n",
        "#             negative += 1\n",
        "#     return batch"
      ]
    },
    {
      "cell_type": "code",
      "execution_count": 90,
      "metadata": {
        "id": "PqyuLen8HVU1"
      },
      "outputs": [],
      "source": [
        "def get_attn_pad_mask(seq_q, seq_k):\n",
        "    batch_size, len_q = seq_q.size()\n",
        "    batch_size, len_k = seq_k.size()\n",
        "    pad_attn_mask = seq_k.data.eq(0).unsqueeze(1)\n",
        "    pad_attn_mask = pad_attn_mask.to(device)\n",
        "    return pad_attn_mask.expand(batch_size, len_q, len_k)"
      ]
    },
    {
      "cell_type": "code",
      "execution_count": 91,
      "metadata": {
        "id": "E5FM5adKHVU1"
      },
      "outputs": [],
      "source": [
        "def gelu(x):\n",
        "    return x * 0.5 * (1.0 + torch.erf(x / math.sqrt(2.0)))"
      ]
    },
    {
      "cell_type": "code",
      "execution_count": 92,
      "metadata": {
        "colab": {
          "base_uri": "https://localhost:8080/"
        },
        "id": "2TujIQEWHVU1",
        "outputId": "3be3747e-db33-42f4-9989-8920e728f708"
      },
      "outputs": [
        {
          "name": "stdout",
          "output_type": "stream",
          "text": [
            "done <class 'list'>\n"
          ]
        }
      ],
      "source": [
        "batch = make_batch()\n",
        "print(\"done\", type(batch))"
      ]
    },
    {
      "cell_type": "code",
      "execution_count": 93,
      "metadata": {
        "id": "MdBoj3MhHVU1"
      },
      "outputs": [],
      "source": [
        "def flatten_tokens(tokens):\n",
        "    flattened_tokens = []\n",
        "    for nums in tokens:\n",
        "        if type(nums) is list:\n",
        "            flattened_tokens.extend(nums)\n",
        "        else:\n",
        "            flattened_tokens.append(nums)\n",
        "\n",
        "    return flattened_tokens"
      ]
    },
    {
      "cell_type": "code",
      "execution_count": 94,
      "metadata": {
        "id": "PUZW6HchHVU1"
      },
      "outputs": [],
      "source": [
        "def arrange_tokens(tokens):\n",
        "    arranged = []\n",
        "    for nums in tokens:\n",
        "        flattened = flatten_tokens(nums)\n",
        "        length = len(flattened)\n",
        "        if length < 32:\n",
        "            missing = 32 - length\n",
        "            flattened.extend([0] * missing)\n",
        "        elif length > 32:\n",
        "            flattened = flattened[:32]\n",
        "        arranged.append(flattened)\n",
        "\n",
        "    return arranged"
      ]
    },
    {
      "cell_type": "code",
      "execution_count": 95,
      "metadata": {
        "id": "eCjT60C4HVU1"
      },
      "outputs": [],
      "source": [
        "# def flatten_tokens(nestedList):\n",
        "# \tif not(bool(nestedList)):\n",
        "# \t\treturn nestedList\n",
        "\n",
        "# \tif isinstance(nestedList[0], list):\n",
        "# \t\treturn flatten_tokens(*nestedList[:1]) + flatten_tokens(nestedList[1:])\n",
        "\n",
        "# \treturn nestedList[:1] + flatten_tokens(nestedList[1:])"
      ]
    },
    {
      "cell_type": "code",
      "execution_count": 96,
      "metadata": {
        "id": "xwt9Is2nHVU2"
      },
      "outputs": [],
      "source": [
        "# input_ids, segment_ids, masked_tokens, masked_pos, isNext = map(torch.LongTensor, zip(*batch))\n",
        "\n",
        "# input_ids = input_ids.to(device)\n",
        "# segment_ids = segment_ids.to(device)\n",
        "# masked_tokens = masked_tokens.to(device)\n",
        "# masked_pos = masked_pos.to(device)\n",
        "# isNext = isNext.to(device)"
      ]
    },
    {
      "cell_type": "code",
      "execution_count": 97,
      "metadata": {
        "id": "CWeln5pEHVU2"
      },
      "outputs": [],
      "source": [
        "# # input_ids, segment_ids, masked_tokens, masked_pos, isNext = map(torch.LongTensor, zip(*batch))\n",
        "\n",
        "# input_ids = torch.LongTensor(arrange_tokens([nums[0] for nums in batch]))\n",
        "# segment_ids = torch.LongTensor([nums[1] for nums in batch])\n",
        "# masked_tokens = torch.LongTensor(arrange_tokens([nums[2] for nums in batch]))\n",
        "# masked_pos = torch.LongTensor([nums[3] for nums in batch])\n",
        "# isNext = torch.LongTensor([nums[4] for nums in batch])\n",
        "\n",
        "# # input_ids = input_ids.to(device)\n",
        "# # segment_ids = segment_ids.to(device)\n",
        "# # masked_tokens = masked_tokens.to(device)\n",
        "# # masked_pos = masked_pos.to(device)\n",
        "# # isNext = isNext.to(device)"
      ]
    },
    {
      "cell_type": "code",
      "execution_count": 98,
      "metadata": {
        "id": "KCY_CnANXb6m"
      },
      "outputs": [],
      "source": [
        "# input_ids, segment_ids, masked_tokens, masked_pos, isNext = map(torch.LongTensor, zip(*batch))\n",
        "\n",
        "input_ids = torch.LongTensor(arrange_tokens([nums[0] for nums in batch]))\n",
        "segment_ids = torch.LongTensor(arrange_tokens([nums[1] for nums in batch]))\n",
        "masked_tokens = torch.LongTensor(arrange_tokens([nums[2] for nums in batch]))\n",
        "masked_pos = torch.LongTensor(arrange_tokens([nums[3] for nums in batch]))\n",
        "isNext = torch.LongTensor([nums[4] for nums in batch])\n",
        "\n",
        "input_ids = input_ids.to(device)\n",
        "segment_ids = segment_ids.to(device)\n",
        "masked_tokens = masked_tokens.to(device)\n",
        "masked_pos = masked_pos.to(device)\n",
        "isNext = isNext.to(device)"
      ]
    },
    {
      "cell_type": "code",
      "execution_count": 99,
      "metadata": {
        "colab": {
          "base_uri": "https://localhost:8080/"
        },
        "id": "-VM3cV8cHVU2",
        "outputId": "e3dfbfc7-bdda-4910-d532-bef9c6663a00"
      },
      "outputs": [
        {
          "data": {
            "text/plain": [
              "(tensor([False, False, False, False, False, False, False, False,  True,  True,\n",
              "          True,  True,  True,  True,  True,  True,  True,  True,  True,  True,\n",
              "          True,  True,  True,  True,  True,  True,  True,  True,  True,  True,\n",
              "          True,  True], device='cuda:0'),\n",
              " tensor([ 1, 14, 15, 16,  2, 12, 13,  2,  0,  0,  0,  0,  0,  0,  0,  0,  0,  0,\n",
              "          0,  0,  0,  0,  0,  0,  0,  0,  0,  0,  0,  0,  0,  0],\n",
              "        device='cuda:0'),\n",
              " tensor([0, 0, 0, 0, 1, 1, 1, 0, 0, 0, 0, 0, 0, 0, 0, 0, 0, 0, 0, 0, 0, 0, 0, 0,\n",
              "         0, 0, 0, 0, 0, 0, 0, 0], device='cuda:0'),\n",
              " tensor([13,  0,  0,  0,  0,  0,  0,  0,  0,  0,  0,  0,  0,  0,  0,  0,  0,  0,\n",
              "          0,  0,  0,  0,  0,  0,  0,  0,  0,  0,  0,  0,  0,  0],\n",
              "        device='cuda:0'),\n",
              " tensor([5, 0, 0, 0, 0, 0, 0, 0, 0, 0, 0, 0, 0, 0, 0, 0, 0, 0, 0, 0, 0, 0, 0, 0,\n",
              "         0, 0, 0, 0, 0, 0, 0, 0], device='cuda:0'),\n",
              " tensor(0, device='cuda:0'))"
            ]
          },
          "execution_count": 99,
          "metadata": {},
          "output_type": "execute_result"
        }
      ],
      "source": [
        "get_attn_pad_mask(input_ids, input_ids)[0][0], input_ids[0], segment_ids[0], masked_tokens[0], masked_pos[0], isNext[0]"
      ]
    },
    {
      "cell_type": "code",
      "execution_count": 100,
      "metadata": {
        "id": "9AE037G_HVU2"
      },
      "outputs": [],
      "source": [
        "class Embedding(nn.Module):\n",
        "    def __init__(self):\n",
        "        super(Embedding, self).__init__()\n",
        "        self.tok_embed = nn.Embedding(vocab_size, d_model)\n",
        "        self.pos_embed = nn.Embedding(maxlen, d_model)\n",
        "        self.seg_embed = nn.Embedding(n_segments, d_model)\n",
        "        self.norm = nn.LayerNorm(d_model)\n",
        "\n",
        "    def forward(self, x, seg):\n",
        "        seq_len = x.size(1)\n",
        "        pos = torch.arange(seq_len, dtype=torch.long)\n",
        "        pos = pos.unsqueeze(0).expand_as(x)\n",
        "        x = x.to(device)\n",
        "        pos = pos.to(device)\n",
        "        seg = seg.to(device)\n",
        "        embedding = self.tok_embed(x) + self.pos_embed(pos) + self.seg_embed(seg)\n",
        "        embedding = embedding.to(device)\n",
        "        return self.norm(embedding)"
      ]
    },
    {
      "cell_type": "code",
      "execution_count": 101,
      "metadata": {
        "id": "jDv4HiKMeAHu"
      },
      "outputs": [],
      "source": [
        "# embedding = Embedding()\n",
        "# x = torch.tensor([[1, 2, 3], [4, 5, 6]])  # Token indices\n",
        "# seg = torch.tensor([[0, 0, 1], [1, 1, 0]])  # Segment indices\n",
        "\n",
        "# output = embedding(x, seg)\n",
        "# print(output.shape)  # Output shape: (2, 3, 512)\n"
      ]
    },
    {
      "cell_type": "code",
      "execution_count": 102,
      "metadata": {
        "id": "_pVJhuvyeOpv"
      },
      "outputs": [],
      "source": [
        "# output"
      ]
    },
    {
      "cell_type": "code",
      "execution_count": 103,
      "metadata": {
        "id": "jRcq_G0UHVU2"
      },
      "outputs": [],
      "source": [
        "class ScaledDotProductAttention(nn.Module):\n",
        "    def __init__(self):\n",
        "        super(ScaledDotProductAttention, self).__init__()\n",
        "\n",
        "    def forward(self, Q, K, V, attn_mask):\n",
        "        scores = torch.matmul(Q, K.transpose(-1, -2)) / np.sqrt(d_k)\n",
        "        scores.masked_fill_(attn_mask, -1e9)\n",
        "        scores = scores.to(device)\n",
        "        attn = nn.Softmax(dim=-1)(scores)\n",
        "        attn = attn.to(device)\n",
        "        context = torch.matmul(attn, V)\n",
        "        context = context.to(device)\n",
        "        return scores, context, attn"
      ]
    },
    {
      "cell_type": "code",
      "execution_count": 104,
      "metadata": {
        "colab": {
          "base_uri": "https://localhost:8080/"
        },
        "id": "CGPbvtKNHVU2",
        "outputId": "e5be8db0-9b3f-47e6-8b54-39a6e3c95080"
      },
      "outputs": [
        {
          "name": "stdout",
          "output_type": "stream",
          "text": [
            "Masks tensor([False, False, False, False, False, False, False, False,  True,  True,\n",
            "         True,  True,  True,  True,  True,  True,  True,  True,  True,  True,\n",
            "         True,  True,  True,  True,  True,  True,  True,  True,  True,  True,\n",
            "         True,  True], device='cuda:0')\n",
            "\n",
            "Scores:  tensor([ 2.2627e+01,  9.5167e+00,  8.5206e+00,  6.4124e+00, -2.6003e-01,\n",
            "         3.9562e+00, -1.8119e+00,  1.3224e+01, -1.0000e+09, -1.0000e+09,\n",
            "        -1.0000e+09, -1.0000e+09, -1.0000e+09, -1.0000e+09, -1.0000e+09,\n",
            "        -1.0000e+09, -1.0000e+09, -1.0000e+09, -1.0000e+09, -1.0000e+09,\n",
            "        -1.0000e+09, -1.0000e+09, -1.0000e+09, -1.0000e+09, -1.0000e+09,\n",
            "        -1.0000e+09, -1.0000e+09, -1.0000e+09, -1.0000e+09, -1.0000e+09,\n",
            "        -1.0000e+09, -1.0000e+09], device='cuda:0', grad_fn=<SelectBackward0>) \n",
            "\n",
            "Attention M:  tensor([9.9991e-01, 2.0233e-06, 7.4729e-07, 9.0758e-08, 1.1484e-10, 7.7836e-09,\n",
            "        2.4329e-11, 8.2464e-05, 0.0000e+00, 0.0000e+00, 0.0000e+00, 0.0000e+00,\n",
            "        0.0000e+00, 0.0000e+00, 0.0000e+00, 0.0000e+00, 0.0000e+00, 0.0000e+00,\n",
            "        0.0000e+00, 0.0000e+00, 0.0000e+00, 0.0000e+00, 0.0000e+00, 0.0000e+00,\n",
            "        0.0000e+00, 0.0000e+00, 0.0000e+00, 0.0000e+00, 0.0000e+00, 0.0000e+00,\n",
            "        0.0000e+00, 0.0000e+00], device='cuda:0', grad_fn=<SelectBackward0>)\n"
          ]
        }
      ],
      "source": [
        "emb = Embedding()\n",
        "emb = emb.to(device)\n",
        "input_ids = input_ids.to(device)\n",
        "segment_ids = segment_ids.to(device)\n",
        "embeds = emb(input_ids, segment_ids)\n",
        "\n",
        "attenM = get_attn_pad_mask(input_ids, input_ids)\n",
        "\n",
        "attenM = attenM.to(device)\n",
        "\n",
        "SDPA= ScaledDotProductAttention()(embeds, embeds, embeds, attenM)\n",
        "\n",
        "S, C, A = SDPA\n",
        "\n",
        "S = S.to(device)\n",
        "C = C.to(device)\n",
        "A = A.to(device)\n",
        "\n",
        "\n",
        "print('Masks',attenM[0][0])\n",
        "print()\n",
        "print('Scores: ', S[0][0],'\\n\\nAttention M: ', A[0][0])"
      ]
    },
    {
      "cell_type": "code",
      "execution_count": 105,
      "metadata": {
        "id": "ZdJUGfKFHVU3"
      },
      "outputs": [],
      "source": [
        "class MultiHeadAttention(nn.Module):\n",
        "    def __init__(self):\n",
        "        super(MultiHeadAttention, self).__init__()\n",
        "        self.W_Q = nn.Linear(d_model, d_k * n_heads)\n",
        "        self.W_K = nn.Linear(d_model, d_k * n_heads)\n",
        "        self.W_V = nn.Linear(d_model, d_v * n_heads)\n",
        "    def forward(self, Q, K, V, attn_mask):\n",
        "        Q = Q.to(device)\n",
        "        K = K.to(device)\n",
        "        V = V.to(device)\n",
        "        attn_mask = attn_mask.to(device)\n",
        "\n",
        "        residual, batch_size = Q, Q.size(0)\n",
        "        q_s = self.W_Q(Q).view(batch_size, -1, n_heads, d_k).transpose(1,2)\n",
        "        k_s = self.W_K(K).view(batch_size, -1, n_heads, d_k).transpose(1,2)\n",
        "        v_s = self.W_V(V).view(batch_size, -1, n_heads, d_v).transpose(1,2)\n",
        "\n",
        "        attn_mask = attn_mask.unsqueeze(1).repeat(1, n_heads, 1, 1)\n",
        "\n",
        "        _, context, attn = ScaledDotProductAttention().to(device)(q_s, k_s, v_s, attn_mask)\n",
        "        # _, context, attn = ScaledDotProductAttention()(q_s, k_s, v_s, attn_mask)\n",
        "        attn = attn.to(device)\n",
        "        context = context.transpose(1, 2).contiguous().view(batch_size, -1, n_heads * d_v)\n",
        "        context = context.to(device)\n",
        "        output = nn.Linear(n_heads * d_v, d_model).to(device)(context)\n",
        "        # output = nn.Linear(n_heads * d_v, d_model)(context)\n",
        "        return nn.LayerNorm(d_model).to(device)(output + residual), attn\n",
        "        # return nn.LayerNorm(d_model)(output + residual), attn\n"
      ]
    },
    {
      "cell_type": "code",
      "execution_count": 106,
      "metadata": {
        "colab": {
          "base_uri": "https://localhost:8080/"
        },
        "id": "FM7RyTwaHVU3",
        "outputId": "15bb8ad0-eeca-4b09-b68e-d3c6eb1d7930"
      },
      "outputs": [
        {
          "data": {
            "text/plain": [
              "tensor([[0.1306, 0.1345, 0.1682,  ..., 0.0000, 0.0000, 0.0000],\n",
              "        [0.1550, 0.1374, 0.1475,  ..., 0.0000, 0.0000, 0.0000],\n",
              "        [0.1434, 0.1410, 0.1948,  ..., 0.0000, 0.0000, 0.0000],\n",
              "        ...,\n",
              "        [0.1594, 0.1405, 0.1611,  ..., 0.0000, 0.0000, 0.0000],\n",
              "        [0.1700, 0.1426, 0.1610,  ..., 0.0000, 0.0000, 0.0000],\n",
              "        [0.1316, 0.1320, 0.1501,  ..., 0.0000, 0.0000, 0.0000]],\n",
              "       device='cuda:0', grad_fn=<SelectBackward0>)"
            ]
          },
          "execution_count": 106,
          "metadata": {},
          "output_type": "execute_result"
        }
      ],
      "source": [
        "emb = Embedding()\n",
        "emb = emb.to(device)\n",
        "input_ids = input_ids.to(device)\n",
        "segment_ids = segment_ids.to(device)\n",
        "embeds = emb(input_ids, segment_ids)\n",
        "embeds = embeds.to(device)\n",
        "\n",
        "attenM = get_attn_pad_mask(input_ids, input_ids)\n",
        "attenM = attenM.to(device)\n",
        "\n",
        "MHA= MultiHeadAttention().to(device)(embeds, embeds, embeds, attenM)\n",
        "# MHA= MultiHeadAttention()(embeds, embeds, embeds, attenM)\n",
        "\n",
        "Output, A = MHA\n",
        "Output = Output.to(device)\n",
        "A = A.to(device)\n",
        "\n",
        "A[0][0]"
      ]
    },
    {
      "cell_type": "code",
      "execution_count": 107,
      "metadata": {
        "id": "DDNwNFbfHVU3"
      },
      "outputs": [],
      "source": [
        "class PoswiseFeedForwardNet(nn.Module):\n",
        "    def __init__(self):\n",
        "        super(PoswiseFeedForwardNet, self).__init__()\n",
        "        self.fc1 = nn.Linear(d_model, d_ff)\n",
        "        self.fc2 = nn.Linear(d_ff, d_model)\n",
        "\n",
        "    def forward(self, x):\n",
        "        return self.fc2(gelu(self.fc1(x)))\n"
      ]
    },
    {
      "cell_type": "code",
      "execution_count": 108,
      "metadata": {
        "id": "xmvDFKAaHVU3"
      },
      "outputs": [],
      "source": [
        "class EncoderLayer(nn.Module):\n",
        "    def __init__(self):\n",
        "        super(EncoderLayer, self).__init__()\n",
        "        self.enc_self_attn = MultiHeadAttention()\n",
        "        self.pos_ffn = PoswiseFeedForwardNet()\n",
        "\n",
        "    def forward(self, enc_inputs, enc_self_attn_mask):\n",
        "        enc_outputs, attn = self.enc_self_attn(enc_inputs, enc_inputs, enc_inputs, enc_self_attn_mask)\n",
        "        attn = attn.to(device)\n",
        "        enc_outputs = self.pos_ffn(enc_outputs)\n",
        "        enc_outputs = enc_outputs.to(device)\n",
        "        return enc_outputs, attn"
      ]
    },
    {
      "cell_type": "code",
      "execution_count": 109,
      "metadata": {
        "id": "Ru8Kl0OaHVU3"
      },
      "outputs": [],
      "source": [
        "class BERT(nn.Module):\n",
        "    def __init__(self):\n",
        "        super(BERT, self).__init__()\n",
        "        self.embedding = Embedding()\n",
        "        self.embedding = self.embedding.to(device)\n",
        "        self.layers = nn.ModuleList([EncoderLayer() for _ in range(n_layers)])\n",
        "        self.fc = nn.Linear(d_model, d_model)\n",
        "        self.activ1 = nn.Tanh()\n",
        "        self.linear = nn.Linear(d_model, d_model)\n",
        "        self.activ2 = gelu\n",
        "        self.norm = nn.LayerNorm(d_model)\n",
        "        self.classifier = nn.Linear(d_model, 2)\n",
        "        embed_weight = self.embedding.tok_embed.weight\n",
        "        embed_weight.to(device)\n",
        "        n_vocab, n_dim = embed_weight.size()\n",
        "        self.decoder = nn.Linear(n_dim, n_vocab, bias=False)\n",
        "        self.decoder.weight = embed_weight\n",
        "        self.decoder_bias = nn.Parameter(torch.zeros(n_vocab))\n",
        "\n",
        "    def forward(self, input_ids, segment_ids, masked_pos):\n",
        "        input_ids = input_ids.to(device)\n",
        "        segment_ids = segment_ids.to(device)\n",
        "        masked_pos = masked_pos.to(device)\n",
        "\n",
        "        output = self.embedding(input_ids, segment_ids)\n",
        "        # enc_self_attn_mask = get_attn_pad_mask(input_ids, input_ids).to(device)\n",
        "        enc_self_attn_mask = get_attn_pad_mask(input_ids, input_ids)\n",
        "        for layer in self.layers:\n",
        "            output, enc_self_attn = layer(output, enc_self_attn_mask)\n",
        "        h_pooled = self.activ1(self.fc(output[:, 0]))\n",
        "        logits_clsf = self.classifier(h_pooled)\n",
        "\n",
        "        masked_pos = masked_pos[:, :, None].expand(-1, -1, output.size(-1))\n",
        "\n",
        "        h_masked = torch.gather(output, 1, masked_pos)\n",
        "        h_masked = self.norm(self.activ2(self.linear(h_masked)))\n",
        "        logits_lm = self.decoder(h_masked) + self.decoder_bias\n",
        "\n",
        "        return logits_lm, logits_clsf"
      ]
    },
    {
      "cell_type": "code",
      "execution_count": 110,
      "metadata": {
        "colab": {
          "base_uri": "https://localhost:8080/"
        },
        "id": "pPyJk_LAHVU3",
        "outputId": "f88cb4fc-a321-44b1-86a1-3443f4cd6a0c"
      },
      "outputs": [
        {
          "name": "stdout",
          "output_type": "stream",
          "text": [
            "Epoch: 0010 loss = 6.263844\n",
            "Epoch: 0020 loss = 1.573847\n",
            "Epoch: 0030 loss = 1.403259\n",
            "Epoch: 0040 loss = 1.333725\n",
            "Epoch: 0050 loss = 1.290974\n",
            "Epoch: 0060 loss = 1.258195\n",
            "Epoch: 0070 loss = 1.203895\n",
            "Epoch: 0080 loss = 1.161018\n",
            "Epoch: 0090 loss = 1.139407\n",
            "Epoch: 0100 loss = 1.094297\n",
            "Epoch: 0110 loss = 1.076979\n",
            "Epoch: 0120 loss = 1.075755\n",
            "Epoch: 0130 loss = 1.040609\n",
            "Epoch: 0140 loss = 1.032118\n",
            "Epoch: 0150 loss = 0.999027\n",
            "Epoch: 0160 loss = 0.980596\n",
            "Epoch: 0170 loss = 0.968272\n",
            "Epoch: 0180 loss = 0.966909\n",
            "Epoch: 0190 loss = 0.927732\n",
            "Epoch: 0200 loss = 0.901315\n",
            "Epoch: 0210 loss = 0.855590\n",
            "Epoch: 0220 loss = 0.835237\n",
            "Epoch: 0230 loss = 0.817448\n",
            "Epoch: 0240 loss = 0.812898\n",
            "Epoch: 0250 loss = 0.829470\n",
            "Epoch: 0260 loss = 0.801268\n",
            "Epoch: 0270 loss = 0.786436\n",
            "Epoch: 0280 loss = 0.795010\n",
            "Epoch: 0290 loss = 0.781508\n",
            "Epoch: 0300 loss = 0.784485\n",
            "Epoch: 0310 loss = 0.771744\n",
            "Epoch: 0320 loss = 0.767788\n",
            "Epoch: 0330 loss = 0.770250\n",
            "Epoch: 0340 loss = 0.759221\n",
            "Epoch: 0350 loss = 0.766668\n",
            "Epoch: 0360 loss = 0.756530\n",
            "Epoch: 0370 loss = 0.765259\n",
            "Epoch: 0380 loss = 0.758120\n",
            "Epoch: 0390 loss = 0.754116\n",
            "Epoch: 0400 loss = 0.754265\n",
            "Epoch: 0410 loss = 0.754477\n",
            "Epoch: 0420 loss = 0.756822\n",
            "Epoch: 0430 loss = 0.751493\n",
            "Epoch: 0440 loss = 0.752815\n",
            "Epoch: 0450 loss = 0.752152\n",
            "Epoch: 0460 loss = 0.752864\n",
            "Epoch: 0470 loss = 0.748302\n",
            "Epoch: 0480 loss = 0.747441\n",
            "Epoch: 0490 loss = 0.760194\n",
            "Epoch: 0500 loss = 0.746599\n",
            "Epoch: 0510 loss = 0.743862\n",
            "Epoch: 0520 loss = 0.742363\n",
            "Epoch: 0530 loss = 0.744105\n",
            "Epoch: 0540 loss = 0.744591\n",
            "Epoch: 0550 loss = 0.742626\n",
            "Epoch: 0560 loss = 0.745251\n",
            "Epoch: 0570 loss = 0.738775\n",
            "Epoch: 0580 loss = 0.742363\n",
            "Epoch: 0590 loss = 0.736244\n",
            "Epoch: 0600 loss = 0.737349\n",
            "Epoch: 0610 loss = 0.744356\n",
            "Epoch: 0620 loss = 0.739507\n",
            "Epoch: 0630 loss = 0.738409\n",
            "Epoch: 0640 loss = 0.734030\n",
            "Epoch: 0650 loss = 0.734429\n",
            "Epoch: 0660 loss = 0.734361\n",
            "Epoch: 0670 loss = 0.736617\n",
            "Epoch: 0680 loss = 0.736039\n",
            "Epoch: 0690 loss = 0.739032\n",
            "Epoch: 0700 loss = 0.738279\n",
            "Epoch: 0710 loss = 0.737115\n",
            "Epoch: 0720 loss = 0.737983\n",
            "Epoch: 0730 loss = 0.735624\n",
            "Epoch: 0740 loss = 0.744525\n",
            "Epoch: 0750 loss = 0.736316\n",
            "Epoch: 0760 loss = 0.736178\n",
            "Epoch: 0770 loss = 0.735655\n",
            "Epoch: 0780 loss = 0.738524\n",
            "Epoch: 0790 loss = 0.736212\n",
            "Epoch: 0800 loss = 0.735688\n",
            "Epoch: 0810 loss = 0.735993\n",
            "Epoch: 0820 loss = 0.733215\n",
            "Epoch: 0830 loss = 0.733954\n",
            "Epoch: 0840 loss = 0.734038\n",
            "Epoch: 0850 loss = 0.735876\n",
            "Epoch: 0860 loss = 0.735372\n",
            "Epoch: 0870 loss = 0.733504\n",
            "Epoch: 0880 loss = 0.737833\n",
            "Epoch: 0890 loss = 0.734586\n",
            "Epoch: 0900 loss = 0.736691\n",
            "Epoch: 0910 loss = 0.733557\n",
            "Epoch: 0920 loss = 0.740102\n",
            "Epoch: 0930 loss = 0.734536\n",
            "Epoch: 0940 loss = 0.730608\n",
            "Epoch: 0950 loss = 0.734348\n",
            "Epoch: 0960 loss = 0.730750\n",
            "Epoch: 0970 loss = 0.734159\n",
            "Epoch: 0980 loss = 0.733705\n",
            "Epoch: 0990 loss = 0.734720\n",
            "Epoch: 1000 loss = 0.736179\n"
          ]
        }
      ],
      "source": [
        "model = BERT()\n",
        "\n",
        "model.to(device)\n",
        "\n",
        "criterion = nn.CrossEntropyLoss()\n",
        "optimizer = optim.Adam(model.parameters(), lr=0.001)\n",
        "\n",
        "batch = make_batch()\n",
        "# input_ids, segment_ids, masked_tokens, masked_pos, isNext = map(torch.LongTensor, zip(*batch))\n",
        "input_ids = torch.LongTensor(arrange_tokens([nums[0] for nums in batch]))\n",
        "segment_ids = torch.LongTensor(arrange_tokens([nums[1] for nums in batch]))\n",
        "masked_tokens = torch.LongTensor(arrange_tokens([nums[2] for nums in batch]))\n",
        "masked_pos = torch.LongTensor(arrange_tokens([nums[3] for nums in batch]))\n",
        "isNext = torch.LongTensor([nums[4] for nums in batch])\n",
        "\n",
        "input_ids = input_ids.to(device)\n",
        "segment_ids = segment_ids.to(device)\n",
        "masked_tokens = masked_tokens.to(device)\n",
        "masked_pos = masked_pos.to(device)\n",
        "isNext = isNext.to(device)\n",
        "\n",
        "for epoch in range(10000):\n",
        "    optimizer.zero_grad()\n",
        "    logits_lm, logits_clsf = model(input_ids.to(device), segment_ids.to(device), masked_pos.to(device))\n",
        "    # logits_lm, logits_clsf = model(input_ids, segment_ids, masked_pos)\n",
        "    loss_lm = criterion(logits_lm.transpose(1, 2), masked_tokens)\n",
        "    loss_lm = (loss_lm.float()).mean()\n",
        "    loss_clsf = criterion(logits_clsf, isNext)\n",
        "    loss = loss_lm + loss_clsf\n",
        "    if (epoch + 1) % 10 == 0:\n",
        "        print('Epoch:', '%04d' % (epoch + 1), 'loss =', '{:.6f}'.format(loss))\n",
        "    loss.backward()\n",
        "    optimizer.step()"
      ]
    },
    {
      "cell_type": "code",
      "execution_count": 111,
      "metadata": {
        "id": "Ru_7WkFGHVU4"
      },
      "outputs": [],
      "source": [
        "# input_ids, segment_ids, masked_tokens, masked_pos, isNext = map(torch.LongTensor, zip(batch[0]))\n",
        "# print(text)\n",
        "# print([number_dict[w.item()] for w in input_ids[0] if number_dict[w.item()] != '[PAD]'])\n",
        "\n",
        "# input_ids = input_ids.to(device)\n",
        "# segment_ids = segment_ids.to(device)\n",
        "# masked_tokens = masked_tokens.to(device)\n",
        "# masked_pos = masked_pos.to(device)\n",
        "# isNext = isNext.to(device)\n",
        "\n",
        "# logits_lm, logits_clsf = model(input_ids, segment_ids, masked_pos)\n",
        "# logits_lm = logits_lm.data.max(2)[1][0].data.cpu().numpy()\n",
        "# print('masked tokens list : ',[pos.item() for pos in masked_tokens[0] if pos.item() != 0])\n",
        "# print('predict masked tokens list : ',[pos for pos in logits_lm if pos != 0])\n",
        "\n",
        "# logits_clsf = logits_clsf.data.max(1)[1].data.cpu().numpy()[0]\n",
        "# print('isNext : ', True if isNext else False)\n",
        "# print('predict isNext : ',True if logits_clsf else False)"
      ]
    }
  ],
  "metadata": {
    "accelerator": "GPU",
    "colab": {
      "gpuType": "T4",
      "provenance": []
    },
    "kernelspec": {
      "display_name": "Python 3",
      "name": "python3"
    },
    "language_info": {
      "codemirror_mode": {
        "name": "ipython",
        "version": 3
      },
      "file_extension": ".py",
      "mimetype": "text/x-python",
      "name": "python",
      "nbconvert_exporter": "python",
      "pygments_lexer": "ipython3",
      "version": "3.10.11"
    },
    "orig_nbformat": 4
  },
  "nbformat": 4,
  "nbformat_minor": 0
}
