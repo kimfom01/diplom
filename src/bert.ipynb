{
  "cells": [
    {
      "cell_type": "code",
      "execution_count": null,
      "metadata": {
        "id": "NJq_jEvmHVUs"
      },
      "outputs": [],
      "source": [
        "import math\n",
        "import re\n",
        "from random import *\n",
        "import numpy as np\n",
        "import torch\n",
        "import torch.nn as nn\n",
        "import torch.optim as optim\n",
        "import pandas as pd\n",
        "from sklearn.model_selection import train_test_split\n",
        "import ast\n",
        "import itertools\n",
        "import os\n",
        "\n",
        "os.environ['CUDA_LAUNCH_BLOCKING'] = \"1\"\n",
        "\n",
        "device = torch.device(\"cuda\")"
      ]
    },
    {
      "cell_type": "code",
      "execution_count": null,
      "metadata": {
        "id": "crgibHsiHVUv"
      },
      "outputs": [],
      "source": [
        "df = pd.read_csv(\"./out/demo_labelled_dataset.csv\")\n",
        "\n",
        "df"
      ]
    },
    {
      "cell_type": "code",
      "execution_count": null,
      "metadata": {
        "id": "8S3veKWwHVUw"
      },
      "outputs": [],
      "source": [
        "X = df[\"numeric_output\"][:926]\n",
        "y = df.results[:926]\n",
        "\n",
        "X"
      ]
    },
    {
      "cell_type": "code",
      "execution_count": null,
      "metadata": {
        "id": "xxBeuxHmHVUx"
      },
      "outputs": [],
      "source": [
        "X = X.apply(ast.literal_eval)\n",
        "\n",
        "print(type(X))"
      ]
    },
    {
      "cell_type": "code",
      "execution_count": null,
      "metadata": {
        "colab": {
          "base_uri": "https://localhost:8080/"
        },
        "id": "UA_XkGUFHVUx",
        "outputId": "284bada9-00c9-4189-a2a1-44b842d0d721"
      },
      "outputs": [],
      "source": [
        "numeric_series = X[:100]\n",
        "\n",
        "# print(numeric_series)\n",
        "\n",
        "# numeric_series = pd.Series([\n",
        "#     ([1.0], [-12.0, 0.999772471]),\n",
        "#     ([-11.9978384],[ 0.999544983]),\n",
        "#     ([0.99909009], [-11.9913555, 0.99863536]),\n",
        "#     ([-11.9870352],[ 0.998180794]),\n",
        "#     ([0.993644133], [-11.9396045, 0.989123796]),\n",
        "#     ([-11.9913555, 0.99863536], [-12.0, 0.999772471]),\n",
        "#     ([-11.9396045],[ 0.999544983]),\n",
        "#     ([0.99909009], [-11.9870352]),\n",
        "#     ([-11.9870352],[ 0.998180794]),\n",
        "#     ([0.993644133], [-11.9396045, 0.989123796])\n",
        "# ])\n",
        "\n",
        "# print(numeric_series)\n",
        "\n",
        "word_dict = {'[PAD]': 0, '[CLS]': 1, '[SEP]': 2, '[MASK]': 3}\n",
        "vocab_size = len(word_dict)\n",
        "id = len(word_dict)\n",
        "\n",
        "for lst1, lst2 in numeric_series:\n",
        "    for i, num in enumerate(lst1):\n",
        "        token = str(num)\n",
        "        if token not in word_dict:\n",
        "            word_dict[token] = id\n",
        "            id += 1\n",
        "    for i, num in enumerate(lst2):\n",
        "        token = str(num)\n",
        "        if token not in word_dict:\n",
        "            word_dict[token] = id\n",
        "            id += 1\n",
        "\n",
        "number_dict = {i: w for w, i in word_dict.items()}\n",
        "\n",
        "tokenized_series = numeric_series.apply(lambda lst: [word_dict.get(str(num), num) for num in lst])\n",
        "\n",
        "print(tokenized_series)\n",
        "\n",
        "token_list = list()\n",
        "for xsol, ysol in tokenized_series:\n",
        "    x_tokens = []\n",
        "    y_tokens = []\n",
        "    for num in xsol:\n",
        "        x_tokens.append(word_dict[str(num)])\n",
        "    for num in ysol:\n",
        "        y_tokens.append(word_dict[str(num)])\n",
        "    tokens = [x_tokens, y_tokens]\n",
        "    token_list.append(tokens)"
      ]
    },
    {
      "cell_type": "code",
      "execution_count": null,
      "metadata": {},
      "outputs": [],
      "source": [
        "max_length = max(len(lst) for tup in tokenized_series for lst in tup)\n",
        "print(max_length)"
      ]
    },
    {
      "cell_type": "code",
      "execution_count": null,
      "metadata": {
        "colab": {
          "base_uri": "https://localhost:8080/"
        },
        "id": "AXkSj4wGHVUy",
        "outputId": "9ef1a29d-e84f-49e1-b875-cbe7ebd83ca8"
      },
      "outputs": [],
      "source": [
        "word_dict"
      ]
    },
    {
      "cell_type": "code",
      "execution_count": null,
      "metadata": {
        "colab": {
          "base_uri": "https://localhost:8080/"
        },
        "id": "f7Sf-VRQHVUz",
        "outputId": "f40fe1bf-8f1c-43bf-f908-f9399dd1f626"
      },
      "outputs": [],
      "source": [
        "len(token_list)"
      ]
    },
    {
      "cell_type": "code",
      "execution_count": null,
      "metadata": {
        "id": "Bm_3iEF8HVU0"
      },
      "outputs": [],
      "source": [
        "batch_size = 6\n",
        "max_pred = 5\n",
        "n_layers = 6\n",
        "n_heads = 12\n",
        "d_model = 32\n",
        "d_ff = 32 * 4\n",
        "d_k = d_v = 2\n",
        "n_segments = 6\n",
        "vocab_size = 50000\n",
        "maxlen = 1000"
      ]
    },
    {
      "cell_type": "code",
      "execution_count": null,
      "metadata": {
        "id": "x1wdn_rxHVU0"
      },
      "outputs": [],
      "source": [
        "def make_batch():\n",
        "    batch = []\n",
        "    positive = negative = 0\n",
        "    while positive != batch_size/2 or negative != batch_size/2:\n",
        "        tokens_a_index, tokens_b_index= randrange(len(tokenized_series)), randrange(len(tokenized_series))\n",
        "        tokens_a, tokens_b= token_list[tokens_a_index], token_list[tokens_b_index]\n",
        "\n",
        "        input_ids = [word_dict['[CLS]']] + tokens_a + [word_dict['[SEP]']] + tokens_b + [word_dict['[SEP]']]\n",
        "\n",
        "        segment_ids = [0] * (1 + len(tokens_a) + 1) + [1] * (len(tokens_b) + 1)\n",
        "\n",
        "        n_pred =  min(max_pred, max(1, int(round(len(input_ids) * 0.15))))\n",
        "\n",
        "        cand_maked_pos = [i for i, token in enumerate(input_ids)\n",
        "                          if token != word_dict['[CLS]'] and token != word_dict['[SEP]']]\n",
        "        shuffle(cand_maked_pos)\n",
        "        masked_tokens, masked_pos = [], []\n",
        "        for pos in cand_maked_pos[:n_pred]:\n",
        "            masked_pos.append(pos)\n",
        "            masked_tokens.append(input_ids[pos])\n",
        "            if random() < 0.8:\n",
        "                input_ids[pos] = word_dict['[MASK]']\n",
        "            elif random() < 0.5:\n",
        "                index = randint(0, vocab_size - 1)\n",
        "                input_ids[pos] = index\n",
        "\n",
        "        n_pad = maxlen - len(input_ids)\n",
        "        input_ids.extend([0] * n_pad)\n",
        "        segment_ids.extend([0] * n_pad)\n",
        "\n",
        "        if max_pred > n_pred:\n",
        "            n_pad = max_pred - n_pred\n",
        "            masked_tokens.extend([0] * n_pad)\n",
        "            masked_pos.extend([0] * n_pad)\n",
        "\n",
        "        if tokens_a_index + 1 == tokens_b_index and positive < batch_size/2:\n",
        "            batch.append([input_ids, segment_ids, masked_tokens, masked_pos, True])\n",
        "            positive += 1\n",
        "        elif tokens_a_index + 1 != tokens_b_index and negative < batch_size/2:\n",
        "            batch.append([input_ids, segment_ids, masked_tokens, masked_pos, False])\n",
        "            negative += 1\n",
        "    return batch"
      ]
    },
    {
      "cell_type": "code",
      "execution_count": null,
      "metadata": {
        "id": "PqyuLen8HVU1"
      },
      "outputs": [],
      "source": [
        "def get_attn_pad_mask(seq_q, seq_k):\n",
        "    batch_size, len_q = seq_q.size()\n",
        "    batch_size, len_k = seq_k.size()\n",
        "    pad_attn_mask = seq_k.data.eq(0).unsqueeze(1)\n",
        "    pad_attn_mask = pad_attn_mask.to(device)\n",
        "    return pad_attn_mask.expand(batch_size, len_q, len_k)"
      ]
    },
    {
      "cell_type": "code",
      "execution_count": null,
      "metadata": {
        "id": "E5FM5adKHVU1"
      },
      "outputs": [],
      "source": [
        "def gelu(x):\n",
        "    return x * 0.5 * (1.0 + torch.erf(x / math.sqrt(2.0)))"
      ]
    },
    {
      "cell_type": "code",
      "execution_count": null,
      "metadata": {
        "colab": {
          "base_uri": "https://localhost:8080/"
        },
        "id": "2TujIQEWHVU1",
        "outputId": "3be3747e-db33-42f4-9989-8920e728f708"
      },
      "outputs": [],
      "source": [
        "batch = make_batch()\n",
        "print(\"done\", type(batch))"
      ]
    },
    {
      "cell_type": "code",
      "execution_count": null,
      "metadata": {
        "id": "MdBoj3MhHVU1"
      },
      "outputs": [],
      "source": [
        "def flatten_tokens(tokens):\n",
        "    flattened_tokens = []\n",
        "    for nums in tokens:\n",
        "        if type(nums) is list:\n",
        "            flattened_tokens.extend(nums)\n",
        "        else:\n",
        "            flattened_tokens.append(nums)\n",
        "\n",
        "    return flattened_tokens"
      ]
    },
    {
      "cell_type": "code",
      "execution_count": null,
      "metadata": {
        "id": "PUZW6HchHVU1"
      },
      "outputs": [],
      "source": [
        "def arrange_tokens(tokens):\n",
        "    arranged = []\n",
        "    for nums in tokens:\n",
        "        flattened = flatten_tokens(nums)\n",
        "        length = len(flattened)\n",
        "        if length < max_length:\n",
        "            missing = max_length - length\n",
        "            flattened.extend([0] * missing)\n",
        "        elif length > max_length:\n",
        "            flattened = flattened[:max_length]\n",
        "        arranged.append(flattened)\n",
        "\n",
        "    return arranged"
      ]
    },
    {
      "cell_type": "code",
      "execution_count": null,
      "metadata": {
        "id": "KCY_CnANXb6m"
      },
      "outputs": [],
      "source": [
        "# input_ids, segment_ids, masked_tokens, masked_pos, isNext = map(torch.LongTensor, zip(*batch))\n",
        "\n",
        "input_ids = torch.LongTensor(arrange_tokens([nums[0] for nums in batch]))\n",
        "segment_ids = torch.LongTensor(arrange_tokens([nums[1] for nums in batch]))\n",
        "masked_tokens = torch.LongTensor(arrange_tokens([nums[2] for nums in batch]))\n",
        "masked_pos = torch.LongTensor(arrange_tokens([nums[3] for nums in batch]))\n",
        "isNext = torch.LongTensor([nums[4] for nums in batch])\n",
        "\n",
        "input_ids = input_ids.to(device)\n",
        "segment_ids = segment_ids.to(device)\n",
        "masked_tokens = masked_tokens.to(device)\n",
        "masked_pos = masked_pos.to(device)\n",
        "isNext = isNext.to(device)"
      ]
    },
    {
      "cell_type": "code",
      "execution_count": null,
      "metadata": {
        "colab": {
          "base_uri": "https://localhost:8080/"
        },
        "id": "-VM3cV8cHVU2",
        "outputId": "e3dfbfc7-bdda-4910-d532-bef9c6663a00"
      },
      "outputs": [],
      "source": [
        "get_attn_pad_mask(input_ids, input_ids)[0][0], input_ids[0], segment_ids[0], masked_tokens[0], masked_pos[0], isNext[0]"
      ]
    },
    {
      "cell_type": "code",
      "execution_count": null,
      "metadata": {
        "id": "9AE037G_HVU2"
      },
      "outputs": [],
      "source": [
        "class Embedding(nn.Module):\n",
        "    def __init__(self):\n",
        "        super(Embedding, self).__init__()\n",
        "        self.tok_embed = nn.Embedding(vocab_size, d_model)\n",
        "        self.pos_embed = nn.Embedding(maxlen, d_model)\n",
        "        self.seg_embed = nn.Embedding(n_segments, d_model)\n",
        "        self.norm = nn.LayerNorm(d_model)\n",
        "        # print(\"tok_embed:\", self.tok_embed.embedding_dim, self.tok_embed.num_embeddings)\n",
        "        # print(\"pos_embed:\",  self.pos_embed.embedding_dim, self.pos_embed.num_embeddings)\n",
        "        # print(\"seg_embed:\", self.seg_embed.embedding_dim, self.seg_embed.num_embeddings)\n",
        "\n",
        "    def forward(self, x, seg):\n",
        "        seq_len = x.size(1)\n",
        "        pos = torch.arange(seq_len, dtype=torch.long)\n",
        "        pos = pos.unsqueeze(0).expand_as(x)\n",
        "        # print(\"x:\", x.size())\n",
        "        # print(\"pos:\", pos.size())\n",
        "        # print(\"seg:\", seg.size())\n",
        "        x = x.to(device)\n",
        "        pos = pos.to(device)\n",
        "        seg = seg.to(device)\n",
        "        embedding = self.tok_embed(x) \n",
        "        embedding += self.pos_embed(pos)\n",
        "        embedding += self.seg_embed(seg)\n",
        "        embedding = embedding.to(device)\n",
        "        return self.norm(embedding)"
      ]
    },
    {
      "cell_type": "code",
      "execution_count": null,
      "metadata": {
        "id": "jRcq_G0UHVU2"
      },
      "outputs": [],
      "source": [
        "class ScaledDotProductAttention(nn.Module):\n",
        "    def __init__(self):\n",
        "        super(ScaledDotProductAttention, self).__init__()\n",
        "\n",
        "    def forward(self, Q, K, V, attn_mask):\n",
        "        scores = torch.matmul(Q, K.transpose(-1, -2)) / np.sqrt(d_k)\n",
        "        scores.masked_fill_(attn_mask, -1e9)\n",
        "        scores = scores.to(device)\n",
        "        attn = nn.Softmax(dim=-1)(scores)\n",
        "        attn = attn.to(device)\n",
        "        context = torch.matmul(attn, V)\n",
        "        context = context.to(device)\n",
        "        return scores, context, attn"
      ]
    },
    {
      "cell_type": "code",
      "execution_count": null,
      "metadata": {
        "colab": {
          "base_uri": "https://localhost:8080/"
        },
        "id": "CGPbvtKNHVU2",
        "outputId": "e5be8db0-9b3f-47e6-8b54-39a6e3c95080"
      },
      "outputs": [],
      "source": [
        "emb = Embedding()\n",
        "emb = emb.to(device)\n",
        "input_ids = input_ids.to(device)\n",
        "segment_ids = segment_ids.to(device)\n",
        "embeds = emb(input_ids, segment_ids)\n",
        "\n",
        "print(embeds.shape)\n",
        "\n",
        "attenM = get_attn_pad_mask(input_ids, input_ids)\n",
        "\n",
        "attenM = attenM.to(device)\n",
        "\n",
        "SDPA= ScaledDotProductAttention()(embeds, embeds, embeds, attenM)\n",
        "\n",
        "S, C, A = SDPA\n",
        "\n",
        "S = S.to(device)\n",
        "C = C.to(device)\n",
        "A = A.to(device)\n",
        "\n",
        "\n",
        "print('Masks:', attenM[0][0])\n",
        "print()\n",
        "print('Scores:', S[0][0],'\\n\\nAttention M:', A[0][0])"
      ]
    },
    {
      "cell_type": "code",
      "execution_count": null,
      "metadata": {
        "id": "ZdJUGfKFHVU3"
      },
      "outputs": [],
      "source": [
        "class MultiHeadAttention(nn.Module):\n",
        "    def __init__(self):\n",
        "        super(MultiHeadAttention, self).__init__()\n",
        "        self.W_Q = nn.Linear(d_model, d_k * n_heads)\n",
        "        self.W_K = nn.Linear(d_model, d_k * n_heads)\n",
        "        self.W_V = nn.Linear(d_model, d_v * n_heads)\n",
        "    def forward(self, Q, K, V, attn_mask):\n",
        "        Q = Q.to(device)\n",
        "        K = K.to(device)\n",
        "        V = V.to(device)\n",
        "        attn_mask = attn_mask.to(device)\n",
        "\n",
        "        residual, batch_size = Q, Q.size(0)\n",
        "        q_s = self.W_Q(Q).view(batch_size, -1, n_heads, d_k).transpose(1,2)\n",
        "        k_s = self.W_K(K).view(batch_size, -1, n_heads, d_k).transpose(1,2)\n",
        "        v_s = self.W_V(V).view(batch_size, -1, n_heads, d_v).transpose(1,2)\n",
        "\n",
        "        attn_mask = attn_mask.unsqueeze(1).repeat(1, n_heads, 1, 1)\n",
        "\n",
        "        _, context, attn = ScaledDotProductAttention().to(device)(q_s, k_s, v_s, attn_mask)\n",
        "        # _, context, attn = ScaledDotProductAttention()(q_s, k_s, v_s, attn_mask)\n",
        "        attn = attn.to(device)\n",
        "        context = context.transpose(1, 2).contiguous().view(batch_size, -1, n_heads * d_v)\n",
        "        context = context.to(device)\n",
        "        output = nn.Linear(n_heads * d_v, d_model).to(device)(context)\n",
        "        # output = nn.Linear(n_heads * d_v, d_model)(context)\n",
        "        return nn.LayerNorm(d_model).to(device)(output + residual), attn\n",
        "        # return nn.LayerNorm(d_model)(output + residual), attn\n"
      ]
    },
    {
      "cell_type": "code",
      "execution_count": null,
      "metadata": {
        "colab": {
          "base_uri": "https://localhost:8080/"
        },
        "id": "FM7RyTwaHVU3",
        "outputId": "15bb8ad0-eeca-4b09-b68e-d3c6eb1d7930"
      },
      "outputs": [],
      "source": [
        "emb = Embedding()\n",
        "emb = emb.to(device)\n",
        "input_ids = input_ids.to(device)\n",
        "segment_ids = segment_ids.to(device)\n",
        "embeds = emb(input_ids, segment_ids)\n",
        "embeds = embeds.to(device)\n",
        "\n",
        "attenM = get_attn_pad_mask(input_ids, input_ids)\n",
        "attenM = attenM.to(device)\n",
        "\n",
        "MHA= MultiHeadAttention().to(device)(embeds, embeds, embeds, attenM)\n",
        "# MHA= MultiHeadAttention()(embeds, embeds, embeds, attenM)\n",
        "\n",
        "Output, A = MHA\n",
        "Output = Output.to(device)\n",
        "A = A.to(device)\n",
        "\n",
        "A[0][0]"
      ]
    },
    {
      "cell_type": "code",
      "execution_count": null,
      "metadata": {
        "id": "DDNwNFbfHVU3"
      },
      "outputs": [],
      "source": [
        "class PoswiseFeedForwardNet(nn.Module):\n",
        "    def __init__(self):\n",
        "        super(PoswiseFeedForwardNet, self).__init__()\n",
        "        self.fc1 = nn.Linear(d_model, d_ff)\n",
        "        self.fc2 = nn.Linear(d_ff, d_model)\n",
        "\n",
        "    def forward(self, x):\n",
        "        return self.fc2(gelu(self.fc1(x)))\n"
      ]
    },
    {
      "cell_type": "code",
      "execution_count": null,
      "metadata": {
        "id": "xmvDFKAaHVU3"
      },
      "outputs": [],
      "source": [
        "class EncoderLayer(nn.Module):\n",
        "    def __init__(self):\n",
        "        super(EncoderLayer, self).__init__()\n",
        "        self.enc_self_attn = MultiHeadAttention()\n",
        "        self.pos_ffn = PoswiseFeedForwardNet()\n",
        "\n",
        "    def forward(self, enc_inputs, enc_self_attn_mask):\n",
        "        enc_outputs, attn = self.enc_self_attn(enc_inputs, enc_inputs, enc_inputs, enc_self_attn_mask)\n",
        "        attn = attn.to(device)\n",
        "        enc_outputs = self.pos_ffn(enc_outputs)\n",
        "        enc_outputs = enc_outputs.to(device)\n",
        "        return enc_outputs, attn"
      ]
    },
    {
      "cell_type": "code",
      "execution_count": null,
      "metadata": {
        "id": "Ru8Kl0OaHVU3"
      },
      "outputs": [],
      "source": [
        "class BERT(nn.Module):\n",
        "    def __init__(self):\n",
        "        super(BERT, self).__init__()\n",
        "        self.embedding = Embedding()\n",
        "        self.embedding = self.embedding.to(device)\n",
        "        self.layers = nn.ModuleList([EncoderLayer() for _ in range(n_layers)])\n",
        "        self.fc = nn.Linear(d_model, d_model)\n",
        "        self.activ1 = nn.Tanh()\n",
        "        self.linear = nn.Linear(d_model, d_model)\n",
        "        self.activ2 = gelu\n",
        "        self.norm = nn.LayerNorm(d_model)\n",
        "        self.classifier = nn.Linear(d_model, 2)\n",
        "        embed_weight = self.embedding.tok_embed.weight\n",
        "        embed_weight.to(device)\n",
        "        n_vocab, n_dim = embed_weight.size()\n",
        "        self.decoder = nn.Linear(n_dim, n_vocab, bias=False)\n",
        "        self.decoder.weight = embed_weight\n",
        "        self.decoder_bias = nn.Parameter(torch.zeros(n_vocab))\n",
        "\n",
        "    def forward(self, input_ids, segment_ids, masked_pos):\n",
        "        input_ids = input_ids.to(device)\n",
        "        segment_ids = segment_ids.to(device)\n",
        "        masked_pos = masked_pos.to(device)\n",
        "\n",
        "        output = self.embedding(input_ids, segment_ids)\n",
        "        enc_self_attn_mask = get_attn_pad_mask(input_ids, input_ids).to(device)\n",
        "        # enc_self_attn_mask = get_attn_pad_mask(input_ids, input_ids)\n",
        "        for layer in self.layers:\n",
        "            output, enc_self_attn = layer(output, enc_self_attn_mask)\n",
        "        h_pooled = self.activ1(self.fc(output[:, 0]))\n",
        "        logits_clsf = self.classifier(h_pooled)\n",
        "\n",
        "        masked_pos = masked_pos[:, :, None].expand(-1, -1, output.size(-1))\n",
        "\n",
        "        h_masked = torch.gather(output, 1, masked_pos)\n",
        "        h_masked = self.norm(self.activ2(self.linear(h_masked)))\n",
        "        logits_lm = self.decoder(h_masked) + self.decoder_bias\n",
        "\n",
        "        return logits_lm, logits_clsf"
      ]
    },
    {
      "cell_type": "code",
      "execution_count": null,
      "metadata": {
        "colab": {
          "base_uri": "https://localhost:8080/"
        },
        "id": "pPyJk_LAHVU3",
        "outputId": "f88cb4fc-a321-44b1-86a1-3443f4cd6a0c"
      },
      "outputs": [],
      "source": [
        "model = BERT()\n",
        "\n",
        "model.to(device)\n",
        "\n",
        "criterion = nn.CrossEntropyLoss()\n",
        "optimizer = optim.Adam(model.parameters(), lr=0.001)\n",
        "\n",
        "batch = make_batch()\n",
        "# input_ids, segment_ids, masked_tokens, masked_pos, isNext = map(torch.LongTensor, zip(*batch))\n",
        "input_ids = torch.LongTensor(arrange_tokens([nums[0] for nums in batch]))\n",
        "segment_ids = torch.LongTensor(arrange_tokens([nums[1] for nums in batch]))\n",
        "masked_tokens = torch.LongTensor(arrange_tokens([nums[2] for nums in batch]))\n",
        "masked_pos = torch.LongTensor(arrange_tokens([nums[3] for nums in batch]))\n",
        "isNext = torch.LongTensor([nums[4] for nums in batch])\n",
        "\n",
        "input_ids = input_ids.to(device)\n",
        "segment_ids = segment_ids.to(device)\n",
        "masked_tokens = masked_tokens.to(device)\n",
        "masked_pos = masked_pos.to(device)\n",
        "isNext = isNext.to(device)\n",
        "\n",
        "for epoch in range(1000):\n",
        "    optimizer.zero_grad()\n",
        "    logits_lm, logits_clsf = model(input_ids.to(device), segment_ids.to(device), masked_pos.to(device))\n",
        "    # logits_lm, logits_clsf = model(input_ids, segment_ids, masked_pos)\n",
        "    loss_lm = criterion(logits_lm.transpose(1, 2), masked_tokens)\n",
        "    loss_lm = (loss_lm.float()).mean()\n",
        "    loss_clsf = criterion(logits_clsf, isNext)\n",
        "    loss = loss_lm + loss_clsf\n",
        "    if (epoch + 1) % 10 == 0:\n",
        "        print('Epoch:', '%04d' % (epoch + 1), 'loss =', '{:.6f}'.format(loss))\n",
        "    loss.backward()\n",
        "    optimizer.step()"
      ]
    },
    {
      "cell_type": "code",
      "execution_count": null,
      "metadata": {
        "id": "Ru_7WkFGHVU4"
      },
      "outputs": [],
      "source": [
        "# input_ids, segment_ids, masked_tokens, masked_pos, isNext = map(torch.LongTensor, zip(batch[0]))\n",
        "# print(text)\n",
        "# print([number_dict[w.item()] for w in input_ids[0] if number_dict[w.item()] != '[PAD]'])\n",
        "\n",
        "# input_ids = input_ids.to(device)\n",
        "# segment_ids = segment_ids.to(device)\n",
        "# masked_tokens = masked_tokens.to(device)\n",
        "# masked_pos = masked_pos.to(device)\n",
        "# isNext = isNext.to(device)\n",
        "\n",
        "# logits_lm, logits_clsf = model(input_ids, segment_ids, masked_pos)\n",
        "# logits_lm = logits_lm.data.max(2)[1][0].data.cpu().numpy()\n",
        "# print('masked tokens list : ',[pos.item() for pos in masked_tokens[0] if pos.item() != 0])\n",
        "# print('predict masked tokens list : ',[pos for pos in logits_lm if pos != 0])\n",
        "\n",
        "# logits_clsf = logits_clsf.data.max(1)[1].data.cpu().numpy()[0]\n",
        "# print('isNext : ', True if isNext else False)\n",
        "# print('predict isNext : ',True if logits_clsf else False)"
      ]
    }
  ],
  "metadata": {
    "accelerator": "GPU",
    "colab": {
      "gpuType": "T4",
      "provenance": []
    },
    "kernelspec": {
      "display_name": "Python 3",
      "name": "python3"
    },
    "language_info": {
      "codemirror_mode": {
        "name": "ipython",
        "version": 3
      },
      "file_extension": ".py",
      "mimetype": "text/x-python",
      "name": "python",
      "nbconvert_exporter": "python",
      "pygments_lexer": "ipython3",
      "version": "3.10.11"
    },
    "orig_nbformat": 4
  },
  "nbformat": 4,
  "nbformat_minor": 0
}
